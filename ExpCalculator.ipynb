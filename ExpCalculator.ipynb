{
 "cells": [
  {
   "cell_type": "code",
   "execution_count": 1,
   "metadata": {},
   "outputs": [],
   "source": [
    "import numpy as np"
   ]
  },
  {
   "cell_type": "code",
   "execution_count": 5,
   "metadata": {},
   "outputs": [
    {
     "name": "stdout",
     "output_type": "stream",
     "text": [
      "0 (4+0j)\n",
      "1 0\n",
      "2 0\n",
      "3 0\n",
      "4 (-5.757077917265737e-15+4j)\n",
      "5 0\n",
      "6 0\n",
      "7 0\n",
      "8 (-4-1.1514155834531474e-14j)\n",
      "9 0\n",
      "10 0\n",
      "11 0\n",
      "12 (2.2600304269997962e-14-4j)\n",
      "13 0\n",
      "14 0\n"
     ]
    }
   ],
   "source": [
    "for y in range(15):\n",
    "    result = np.exp(-1j*3*np.pi/8*y) + np.exp(-1j*7*np.pi/8*y) + np.exp(-1j*11*np.pi/8*y) + np.exp(-1j*15*np.pi/8*y)\n",
    "    if abs(result) < 1e-10: \n",
    "        result = 0\n",
    "    print(y, result)"
   ]
  },
  {
   "cell_type": "code",
   "execution_count": null,
   "metadata": {},
   "outputs": [],
   "source": []
  }
 ],
 "metadata": {
  "kernelspec": {
   "display_name": "Python 3",
   "language": "python",
   "name": "python3"
  },
  "language_info": {
   "codemirror_mode": {
    "name": "ipython",
    "version": 3
   },
   "file_extension": ".py",
   "mimetype": "text/x-python",
   "name": "python",
   "nbconvert_exporter": "python",
   "pygments_lexer": "ipython3",
   "version": "3.8.5"
  }
 },
 "nbformat": 4,
 "nbformat_minor": 4
}
