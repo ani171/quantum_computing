{
 "cells": [
  {
   "cell_type": "code",
   "execution_count": 1,
   "metadata": {},
   "outputs": [],
   "source": [
    "from qiskit import *\n",
    "from qiskit.algorithms import Shor"
   ]
  },
  {
   "cell_type": "code",
   "execution_count": 2,
   "metadata": {},
   "outputs": [
    {
     "name": "stdout",
     "output_type": "stream",
     "text": [
      "Factors: [[3, 5]]\n"
     ]
    }
   ],
   "source": [
    "qinstance = Aer.get_backend('qasm_simulator')\n",
    "shor = Shor(quantum_instance=qinstance)\n",
    "\n",
    "result = shor.factor(N=15, a=7)\n",
    "print('Factors:', result.factors)"
   ]
  },
  {
   "cell_type": "code",
   "execution_count": 3,
   "metadata": {},
   "outputs": [
    {
     "name": "stdout",
     "output_type": "stream",
     "text": [
      "Help on Shor in module qiskit.algorithms.factorizers.shor object:\n",
      "\n",
      "class Shor(builtins.object)\n",
      " |  Shor(quantum_instance: Union[qiskit.providers.backend.Backend, qiskit.providers.basebackend.BaseBackend, qiskit.utils.quantum_instance.QuantumInstance, NoneType] = None) -> None\n",
      " |  \n",
      " |  Shor's factoring algorithm.\n",
      " |  \n",
      " |  Shor's Factoring algorithm is one of the most well-known quantum algorithms and finds the\n",
      " |  prime factors for input integer :math:`N` in polynomial time.\n",
      " |  \n",
      " |  Adapted from https://github.com/ttlion/ShorAlgQiskit\n",
      " |  \n",
      " |  See also https://arxiv.org/abs/quant-ph/0205095\n",
      " |  \n",
      " |  Methods defined here:\n",
      " |  \n",
      " |  __init__(self, quantum_instance: Union[qiskit.providers.backend.Backend, qiskit.providers.basebackend.BaseBackend, qiskit.utils.quantum_instance.QuantumInstance, NoneType] = None) -> None\n",
      " |      Args:\n",
      " |          quantum_instance: Quantum Instance or Backend\n",
      " |  \n",
      " |  construct_circuit(self, N: int, a: int = 2, measurement: bool = False) -> qiskit.circuit.quantumcircuit.QuantumCircuit\n",
      " |      Construct circuit.\n",
      " |      \n",
      " |      Args:\n",
      " |          N: The integer to be factored, has a min. value of 3.\n",
      " |          a: Any integer that satisfies 1 < a < N and gcd(a, N) = 1.\n",
      " |          measurement: Boolean flag to indicate if measurement should be included in the circuit.\n",
      " |      \n",
      " |      Returns:\n",
      " |          Quantum circuit.\n",
      " |      \n",
      " |      Raises:\n",
      " |          ValueError: Invalid N\n",
      " |  \n",
      " |  factor(self, N: int, a: int = 2) -> 'ShorResult'\n",
      " |      Execute the algorithm.\n",
      " |      \n",
      " |      The input integer :math:`N` to be factored is expected to be odd and greater than 2.\n",
      " |      Even though this implementation is general, its capability will be limited by the\n",
      " |      capacity of the simulator/hardware. Another input integer :math:`a`  can also be supplied,\n",
      " |      which needs to be a co-prime smaller than :math:`N` .\n",
      " |      \n",
      " |      Args:\n",
      " |          N: The integer to be factored, has a min. value of 3.\n",
      " |          a: Any integer that satisfies 1 < a < N and gcd(a, N) = 1.\n",
      " |      \n",
      " |      Returns:\n",
      " |          ShorResult: results of the algorithm.\n",
      " |      \n",
      " |      Raises:\n",
      " |          ValueError: Invalid input\n",
      " |          AlgorithmError: If a quantum instance or backend has not been provided\n",
      " |  \n",
      " |  ----------------------------------------------------------------------\n",
      " |  Static methods defined here:\n",
      " |  \n",
      " |  modinv(a: int, m: int) -> int\n",
      " |      Returns the modular multiplicative inverse of a with respect to the modulus m.\n",
      " |  \n",
      " |  ----------------------------------------------------------------------\n",
      " |  Data descriptors defined here:\n",
      " |  \n",
      " |  __dict__\n",
      " |      dictionary for instance variables (if defined)\n",
      " |  \n",
      " |  __weakref__\n",
      " |      list of weak references to the object (if defined)\n",
      " |  \n",
      " |  quantum_instance\n",
      " |      Returns quantum instance.\n",
      "\n"
     ]
    }
   ],
   "source": [
    "help(shor)"
   ]
  },
  {
   "cell_type": "code",
   "execution_count": null,
   "metadata": {},
   "outputs": [],
   "source": []
  }
 ],
 "metadata": {
  "kernelspec": {
   "display_name": "Python 3",
   "language": "python",
   "name": "python3"
  },
  "language_info": {
   "codemirror_mode": {
    "name": "ipython",
    "version": 3
   },
   "file_extension": ".py",
   "mimetype": "text/x-python",
   "name": "python",
   "nbconvert_exporter": "python",
   "pygments_lexer": "ipython3",
   "version": "3.8.5"
  }
 },
 "nbformat": 4,
 "nbformat_minor": 4
}
